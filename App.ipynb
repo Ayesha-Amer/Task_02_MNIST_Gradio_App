{
 "cells": [
  {
   "cell_type": "code",
   "execution_count": 13,
   "id": "b7bff24c-9816-4213-8ced-4c91dc31245e",
   "metadata": {},
   "outputs": [
    {
     "name": "stdout",
     "output_type": "stream",
     "text": [
      "* Running on local URL:  http://127.0.0.1:7860\n",
      "* To create a public link, set `share=True` in `launch()`.\n"
     ]
    },
    {
     "data": {
      "text/html": [
       "<div><iframe src=\"http://127.0.0.1:7860/\" width=\"100%\" height=\"500\" allow=\"autoplay; camera; microphone; clipboard-read; clipboard-write;\" frameborder=\"0\" allowfullscreen></iframe></div>"
      ],
      "text/plain": [
       "<IPython.core.display.HTML object>"
      ]
     },
     "metadata": {},
     "output_type": "display_data"
    },
    {
     "data": {
      "text/plain": []
     },
     "execution_count": 13,
     "metadata": {},
     "output_type": "execute_result"
    }
   ],
   "source": [
    "import gradio as gr\n",
    "import numpy as np\n",
    "from skimage.transform import resize\n",
    "import joblib\n",
    "\n",
    "# Load your trained model\n",
    "model = joblib.load(\"mnist_sgd_model.pkl\")\n",
    "\n",
    "def predict_digit(image):\n",
    "    image_resized = resize(image, (28, 28), anti_aliasing=True)\n",
    "    if image_resized.ndim == 3:\n",
    "        image_gray = image_resized[:, :, 0]\n",
    "    else:\n",
    "        image_gray = image_resized\n",
    "    image_flat = image_gray.reshape(1, -1)\n",
    "    prediction = model.predict(image_flat)\n",
    "    return str(int(prediction[0]))\n",
    "\n",
    "iface = gr.Interface(\n",
    "    fn=predict_digit,\n",
    "    inputs=gr.Image(),  # just default input\n",
    "    outputs=gr.Label(),\n",
    "    title=\"MNIST Digit Recognizer\"\n",
    ")\n",
    "\n",
    "iface.launch(inline=True)\n"
   ]
  },
  {
   "cell_type": "code",
   "execution_count": null,
   "id": "74ba4beb-fbaf-4b9c-92ca-9a6fb77e53ae",
   "metadata": {},
   "outputs": [],
   "source": []
  }
 ],
 "metadata": {
  "kernelspec": {
   "display_name": "Python 3 (ipykernel)",
   "language": "python",
   "name": "python3"
  },
  "language_info": {
   "codemirror_mode": {
    "name": "ipython",
    "version": 3
   },
   "file_extension": ".py",
   "mimetype": "text/x-python",
   "name": "python",
   "nbconvert_exporter": "python",
   "pygments_lexer": "ipython3",
   "version": "3.13.3"
  }
 },
 "nbformat": 4,
 "nbformat_minor": 5
}
